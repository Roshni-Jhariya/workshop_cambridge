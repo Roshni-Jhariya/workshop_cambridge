{
 "cells": [
  {
   "cell_type": "markdown",
   "metadata": {},
   "source": [
    "<div align=\"center\"><img width=\"50%\" src=\"slides/images/Cambridge_logo.png\"></div>\n",
    "\n",
    "# Workshop Cambridge, September 2018\n",
    "\n",
    "Python is on its way to become the most used programming language in neuroscience. It is easy to understand, can be learned rather quickly and has a very strong and helpful community behind it. There exist many amazing neuroimaging software packages, such as Nipype & fmriprep, that facilitate the everyday life of a neuroscientist.\n",
    "\n",
    "The goal of this 2-day workshop is to introduce participants to the basics of Python, to give them a short overview about relevant neuroimaging software packages and most of all, to teach them everything they need to know about Nipype. Nipype is an open-source software package, that provides a unified way of interfacing with most of the freely available neuroimaging software packages, such as SPM, FSL, AFNI, FreeSurfer and ANTs.\n",
    "\n",
    "The full content of this course, all notebooks and slides can be found on the github repository [github.com/miykael/workshop_cambridge](https://github.com/miykael/workshop_cambridge). Also check out the overview document connect to this workshop under [goo.gl/to9JfT](https://goo.gl/to9JfT) for supportive material, feedback, tips & tricks.</span>\n",
    "\n",
    "### <span style=\"color:red\">Important</span>\n",
    "If you're running this notebook through a docker container, make sure that you used the `-v` flag to mount a folder on your system inside the container. Like this you will have access to any changes of the notebooks or output that you create within this container. For more, take a look at the [Docker information](https://github.com/miykael/workshop_cambridge#docker)."
   ]
  },
  {
   "cell_type": "markdown",
   "metadata": {},
   "source": [
    "<h2 style=\"background-color: #F0F0F0;\">Day 1 (morning): Python Basics\n",
    "\n",
    "### Introduction to Python and Jupyter Notebooks\n",
    "\n",
    "This section is meant as a quick introduction to Jupyter Notebooks and Python. What are they, how do they work and why are they so cool?\n",
    "\n",
    "- Slides: [Introduction to Python and Jupyter Notebook](slides/day1_01_python_and_jupyter_notebook.html)\n",
    "- Notebook 1: [Jupyter Notebook](../nipype_tutorial/notebooks/introduction_jupyter-notebook.ipynb)\n",
    "- Notebook 2: [All about Python](../nipype_tutorial/notebooks/introduction_python.ipynb)\n",
    "\n",
    "### Crash course in scientific toolboxes\n",
    "\n",
    "One advantage of Python is the vast availability of toolboxes. There's a toolbox for almost everything! In this section we want to introduce you to the main scientific toolboxes that every researcher should know.\n",
    "\n",
    "- Slides: [Scientific Toolboxes](slides/day1_02_scientific_toolboxes.html)\n",
    "- Notebook 1: [Numpy](notebooks/python_numpy.ipynb)\n",
    "- Notebook 2: [Scipy](notebooks/python_scipy.ipynb)\n",
    "- Notebook 3: [Scikit](notebooks/python_scikit.ipynb)\n",
    "- Notebook 4: [Statistics](notebooks/python_statistics.ipynb)\n",
    "- Notebook 5: [Visualization](notebooks/python_visualization.ipynb)\n",
    "\n",
    "### How to setup your system for Python and Nipype, using Conda and Docker\n",
    "\n",
    "There are many ways to create the right computational environment for your research. But if you want to use the newest technologies you will not get around using Docker or Conda.\n",
    "\n",
    " - Slides: [Conda and Docker](slides/day1_03_conda_and_docker.html)"
   ]
  },
  {
   "cell_type": "markdown",
   "metadata": {},
   "source": [
    "<h2 style=\"background-color: #F0F0F0;\">Day 1 (afternoon) - Python & Neuroimaging\n",
    "\n",
    "### How to handle your MRI data with Nibabel and Nilearn\n",
    "\n",
    "It's liberating to have direct access to your data. `Nibabel` and `Nilearn`, two neuroimaging toolboxes allow exactly that. With them you can consider the brain just a 3/4D matrix of datapoints and do with it whatever you want.\n",
    "\n",
    "- Slides: [Data Manipulation](slides/python_and_neuroimaging.html)\n",
    "- Notebook 1: [Nibabel](notebooks/neuroimaging/01_nibabel.ipynb)\n",
    "- Notebook 2: [Nilearn](notebooks/neuroimaging/02_nilearn.ipynb)\n",
    "\n",
    "### Crash course in neuroimaging software toolboxes\n",
    "\n",
    "The neuroimaging field of MRI has many different subdisciplines. Luckily there's at least one or more Python toolboxes for each of them. In this section we will introduce you to toolboxes that allow machine learning (`PyMVPA` / `Nilearn`), diffusion imaging (`Dipy`), connectivity analysis (`Nilearn`) and structural analysis (`Mindboggle`). This list is by no means exhaustive.\n",
    "\n",
    "- Slides: [Neuroimaging Toolboxes](slides/python_and_neuroimaging.html)\n",
    "- Notebook 1: [PyMVPA](notebooks/neuroimaging/03_pymvpa.ipynb)\n",
    "- Notebook 2: [Dipy](notebooks/neuroimaging/02_nilearn.ipynb)\n",
    "- Notebook 3: [Nilearn](notebooks/neuroimaging/02_nilearn.ipynb)\n",
    "- Notebook 4: [Mindboggle](notebooks/neuroimaging/02_nilearn.ipynb)"
   ]
  },
  {
   "cell_type": "markdown",
   "metadata": {},
   "source": [
    "<h2 style=\"background-color: #F0F0F0;\"> Day 2 (morning) - Everything about Nipype\n",
    "\n",
    "### Introduction to Nipype\n",
    "\n",
    "In this short introduction we will show you what Nipype is and why you should use it. It contains a powerful short example that the strength behind Nipype.\n",
    "\n",
    " - Slides: [Short introduction to Nipype](https://miykael.github.io/nipype_tutorial/notebooks/introduction_nipype.slides.html)\n",
    " - Notebook: [Nipype Showcase](../nipype_tutorial/notebooks/introduction_showcase.ipynb)\n",
    "\n",
    "\n",
    "### Building-blocks of Nipype: Interfaces & Workflows\n",
    "\n",
    "Nipype can be learned very quickly, but it's nonetheless important that you know about some of the main building-blocks.\n",
    "\n",
    " - Slides: [Interfaces & Workflows](slides/day2_01_nipype_basics.html)\n",
    " - Notebook: [Basic Concepts](../nipype_tutorial/index.ipynb)\n",
    "\n",
    "\n",
    "### New innovations Thanks to Nipype\n",
    "\n",
    "Nipype is behind many of the new inventions in the field, such as BIDS, fmriprep, MRIQC, OpenNeuro etc. If you don't use them yet yourself, it's at least important that you've already heard about them.\n",
    "\n",
    "<span style=\"color:red\">This section still needs to be written</span>\n",
    "\n",
    "\n",
    " - Slides: [What you need to know!](slides/nipype_interfaces_and_workflow.html)\n",
    " \n",
    " ***MENTION PORCUPINE HERE SOMEWHERE***"
   ]
  },
  {
   "cell_type": "markdown",
   "metadata": {},
   "source": [
    "<h2 style=\"background-color: #F0F0F0;\"> Day 2 (afternoon) - Nipype Hands-On\n",
    "\n",
    "### Use what you've learned!\n",
    "\n",
    "The goal of this afternoon is that you get your hands dirty with Nipype. For this purpose you will work on the Hands-on example from the Nipype Tutorial. It contains a complete task-based fMRI analysis, including pre-processing, 1st-level and 2nd-level analysis.\n",
    "\n",
    "The goal of this hands-on is to show you a real case example of a pre-processing and analysis pipeline with Nipype. Don't hesitate to ask us if you have questions. And feel free to create your own pipeline from scratch if you want. We're happy to help you to get things going.\n",
    "\n",
    "**Important:** Don't forget to use the `-v` flag to run the docker container. Like this you will have access to changes in the notebook and possible output that you want to keep.\n",
    "\n",
    "### Pre-processing Hands-on (~150min)\n",
    "* Notebook under: [nipype_tutorial/notebooks/handson_preprocessing.ipynb](../nipype_tutorial/notebooks/handson_preprocessing.ipynb)\n",
    "\n",
    "### Analysis Hands-on (~60min)\n",
    "* Notebook under: [nipype_tutorial/notebooks/handson_analysis.ipynb](../nipype_tutorial/notebooks/handson_analysis.ipynb)\n",
    "\n",
    "### Wrap-up Session\n",
    "\n",
    "To wrap-up we quickly want to summarize what we've learned and point you to useful resources. But most and for all, we want to give you again the opportunity to ask any question you have."
   ]
  }
 ],
 "metadata": {
  "anaconda-cloud": {},
  "kernelspec": {
   "display_name": "Python [default]",
   "language": "python",
   "name": "python3"
  },
  "language_info": {
   "codemirror_mode": {
    "name": "ipython",
    "version": 3
   },
   "file_extension": ".py",
   "mimetype": "text/x-python",
   "name": "python",
   "nbconvert_exporter": "python",
   "pygments_lexer": "ipython3",
   "version": "3.6.5"
  }
 },
 "nbformat": 4,
 "nbformat_minor": 2
}
