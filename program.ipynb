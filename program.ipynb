{
 "cells": [
  {
   "cell_type": "markdown",
   "metadata": {},
   "source": [
    "# Workshop Cambridge, September 2018\n",
    "\n",
    "Python is on its way to become the most used programming language in neuroscience. It is easy to understand, can be learned rather quickly and has a very strong and helpful community behind it. There exist many amazing neuroimaging software packages, such as Nipype & fmriprep, that facilitate the everyday life of a neuroscientist.\n",
    "\n",
    "The goal of this 2-day workshop is to introduce participants to the basics of Python, to give them a short overview about relevant neuroimaging software packages and most of all, to teach them everything they need to know about Nipype. Nipype is an open-source software package, that provides a unified way of interfacing with most of the freely available neuroimaging software packages, such as SPM, FSL, AFNI, FreeSurfer and ANTs.\n",
    "\n",
    "The full content of this course, all notebooks and slides can be found on the github repository [github.com/miykael/workshop_cambridge](https://github.com/miykael/workshop_cambridge). Also check out the overview document connect to this workshop under [goo.gl/to9JfT](https://goo.gl/to9JfT) for supportive material, feedback, tips & tricks.</span>\n",
    "\n",
    "### <span style=\"color:red\">Important</span>\n",
    "If you're running this notebook through a docker container, make sure that you used the `-v` flag to mount a folder on your system inside the container. Like this you will have access to any changes of the notebooks or output that you create within this container. For more, take a look at the [Docker information](https://github.com/miykael/workshop_cambridge#docker)."
   ]
  },
  {
   "cell_type": "markdown",
   "metadata": {},
   "source": [
    "# Schedule"
   ]
  },
  {
   "cell_type": "markdown",
   "metadata": {},
   "source": [
    "## Day 1 (morning): Python Basics\n",
    "\n",
    "### Introduction to Python and Jupyter Notebooks\n",
    "\n",
    "This section is meant as a quick introduction to Jupyter Notebooks and Python. What are they, how do they work and why are they so cool?\n",
    "\n",
    "- Slides: [Introduction to Python and Jupyter Notebook](slides/day1_01_python_and_jupyter_notebook.html)\n",
    "- Notebook 1: [Jupyter Notebook](../nipype_tutorial/notebooks/introduction_jupyter-notebook.ipynb)\n",
    "- Notebook 2: [All about Python](../nipype_tutorial/notebooks/introduction_python.ipynb)\n",
    "\n",
    "### Crash course in scientific toolboxes\n",
    "\n",
    "One advantage of Python is the vast availability of toolboxes. There's a toolbox for almost everything! In this section we want to introduce you to the main scientific toolboxes that every researcher should know.\n",
    "\n",
    "- Slides: [Scientific Toolboxes](slides/day1_02_scientific_toolboxes.html)\n",
    "- Notebook 1: [Numpy](notebooks/python_numpy.ipynb)\n",
    "- Notebook 2: [Scipy](notebooks/python_scipy.ipynb)\n",
    "- Notebook 3: [Scikit](notebooks/python_scikit.ipynb)\n",
    "- Notebook 4: [Statistics](notebooks/python_statistics.ipynb)\n",
    "- Notebook 5: [Visualization](notebooks/python_visualization.ipynb)\n",
    "\n",
    "### How to setup your system for Python and Nipype, using Conda and Docker\n",
    "\n",
    "There are many ways to create the computational environment for your research. But if you want to use the newest technologies you will not get around using Docker or Conda. For this reason we will have a short introduction and explanation section about those two.\n",
    "\n",
    " - Slides: [Conda and Docker](slides/day1_03_conda_and_docker.html)"
   ]
  },
  {
   "cell_type": "markdown",
   "metadata": {},
   "source": [
    "## Day 1 (afternoon) - Python & Neuroimaging\n",
    "\n",
    "### How to handle your MRI data with Nibabel and Nilearn\n",
    "\n",
    "It's liberating to have direct access to your data. `Nibabel` and `Nilearn`, two neuroimaging toolboxes allow exactly that. With them you can consider the brain just a 3/4D matrix of datapoints and do with it whatever you want.\n",
    "\n",
    "- Slides: [Data Manipulation](slides/python_and_neuroimaging.html)\n",
    "- Notebook 1: [Nibabel](notebooks/neuroimaging/01_nibabel.ipynb)\n",
    "- Notebook 2: [Nilearn](notebooks/neuroimaging/02_nilearn.ipynb)\n",
    "\n",
    "\n",
    "### Crash course in neuroimaging software toolboxes\n",
    "\n",
    "The neuroimaging field of MRI has many different subdisciplines. Luckily there's at least one or more Python toolboxes for each of them. In this section we will introduce you to toolboxes that allow machine learning (`PyMVPA` / `Nilearn`), diffusion imaging (`Dipy`), connectivity analysis (`Nilearn`) and structural analysis (`Mindboggle`). This list is by no means exhaustive.\n",
    "\n",
    "- Slides: [Neuroimaging Toolboxes](slides/python_and_neuroimaging.html)\n",
    "- Notebook 1: [PyMVPA](notebooks/neuroimaging/03_pymvpa.ipynb)\n",
    "- Notebook 2: [Dipy](notebooks/neuroimaging/02_nilearn.ipynb)\n",
    "- Notebook 3: [Nilearn](notebooks/neuroimaging/02_nilearn.ipynb)\n",
    "- Notebook 4: [Mindboggle](notebooks/neuroimaging/02_nilearn.ipynb)"
   ]
  },
  {
   "cell_type": "markdown",
   "metadata": {},
   "source": [
    "## Day 2 (morning) - Everything about Nipype\n",
    "\n",
    "### Introduction to Nipype\n",
    "\n",
    "The Why, What and How? Everything you need to know about Nipype. In this section we will quickly explain how Nipype works and present you a short powerful example that shows Nipype's strength.\n",
    "\n",
    " - Slides: [Short introduction to Nipype](https://miykael.github.io/nipype_tutorial/notebooks/introduction_nipype.slides.html)\n",
    " - Notebook: [Nipype Showcase](../nipype_tutorial/notebooks/introduction_showcase.ipynb)\n",
    "\n",
    "\n",
    "### Building-blocks of Nipype: Interfaces & Workflows\n",
    "\n",
    "In this section you will learn more about many of the building-blocks that make up Nipype.\n",
    "\n",
    " - Slides: [Interfaces & Workflows](slides/nipype_interfaces_and_workflow.html)\n",
    " - Notebook: [Basic Concepts](../nipype_tutorial/index.ipynb)\n",
    "\n",
    "\n",
    "### New innovations Thanks to Nipype\n",
    "\n",
    "Nipype is behind many of the new inventions in the field, such as BIDS, fmriprep, MRIQC, OpenNeuro etc. If you don't use them yet yourself, it's at least important that you've already heard about them.\n",
    "\n",
    " - Slides: [What you need to know!](slides/nipype_interfaces_and_workflow.html)\n",
    " \n",
    " \n",
    "***MENTION PORCUPINE HERE SOMEWHERE***"
   ]
  },
  {
   "cell_type": "markdown",
   "metadata": {},
   "source": [
    "## Day 2 (afternoon) - Nipype Hands-On\n",
    "\n",
    "### Create a complete fMRI pre-processing, 1st-level and 2nd-level analysis with Nipype\n",
    "\n",
    "\n",
    "PEOPLE SHOULD BE REMINDED to use the `-v` flags for docker\n",
    "\n",
    "- Slides: [Data Manipulation](slides/python_and_neuroimaging.html)\n",
    "\n",
    "* Preprocessing Hands-on (~150min)\n",
    "    * Notebook: [nipype_tutorial/notebooks/handson_preprocessing.ipynb](../nipype_tutorial/notebooks/handson_preprocessing.ipynb)\n",
    "\n",
    "\n",
    "* Analysis Hands-on (~90min)\n",
    "    * Notebook: [nipype_tutorial/notebooks/handson_analysis.ipynb](../nipype_tutorial/notebooks/handson_analysis.ipynb)\n",
    "\n",
    "\n",
    "\n",
    "### Ask questions and get help for your own particular pipeline\n",
    "\n"
   ]
  }
 ],
 "metadata": {
  "anaconda-cloud": {},
  "kernelspec": {
   "display_name": "Python [default]",
   "language": "python",
   "name": "python3"
  },
  "language_info": {
   "codemirror_mode": {
    "name": "ipython",
    "version": 3
   },
   "file_extension": ".py",
   "mimetype": "text/x-python",
   "name": "python",
   "nbconvert_exporter": "python",
   "pygments_lexer": "ipython3",
   "version": "3.6.5"
  }
 },
 "nbformat": 4,
 "nbformat_minor": 2
}
